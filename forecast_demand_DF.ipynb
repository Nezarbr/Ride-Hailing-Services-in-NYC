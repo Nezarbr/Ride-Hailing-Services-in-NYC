{
 "cells": [
  {
   "cell_type": "code",
   "execution_count": null,
   "metadata": {},
   "outputs": [],
   "source": [
    "import pandas as pd\n",
    "from sklearn.model_selection import train_test_split"
   ]
  },
  {
   "cell_type": "code",
   "execution_count": null,
   "metadata": {},
   "outputs": [],
   "source": [
    "def stratified_sample_dataframe(df, size, col1, col2):\n",
    "    \"\"\"\n",
    "    Optimized function to stratify sample without creating a temporary column.\n",
    "    \"\"\"\n",
    "    if size >= len(df):\n",
    "        return df\n",
    "\n",
    "    stratify_on = pd.MultiIndex.from_frame(df[[col1, col2]])\n",
    "\n",
    "    _, stratified_df = train_test_split(df, test_size=size/len(df), stratify=stratify_on, random_state=42)\n",
    "    \n",
    "    return stratified_df\n",
    "\n",
    "\n",
    "parquet_file_paths = ['01-2021.parquet', '02-2021.parquet', '03-2021.parquet', '04-2021.parquet', '05-2021.parquet'] # List of parquet files to process\n",
    "\n",
    "sampled_dfs = [] # empty list to store the sampled dataframes\n",
    "\n",
    "for path in parquet_file_paths:\n",
    "    df = pd.read_parquet(path)\n",
    "\n",
    "    df['month'] = df['request_datetime'].dt.month \n",
    "    df['day_of_month'] = df['request_datetime'].dt.day\n",
    "\n",
    "    sampled_df = stratified_sample_dataframe(df, 1_000_000, 'hvfhs_license_num', 'day_of_month')\n",
    "\n",
    "    sampled_dfs.append(sampled_df)\n",
    "\n",
    "\n",
    "df_all = pd.concat(sampled_dfs, ignore_index=True) # Concatenate all sampled dataframes\n",
    "\n",
    "df_all.to_csv('Price_waiting_processed.csv', index=False)\n",
    "\n",
    "print(\"Processed data saved to 'Price_waiting_processed.csv'\")"
   ]
  },
  {
   "cell_type": "code",
   "execution_count": 2,
   "metadata": {},
   "outputs": [],
   "source": [
    "file_names = ['01-2021.parquet', '02-2021.parquet', '03-2021.parquet', '04-2021.parquet', '05-2021.parquet'] # List of file names\n",
    "\n",
    "all_number_fares_df = pd.DataFrame() # empty DataFrame to hold all the results\n",
    "\n",
    "for file_name in file_names:\n",
    "    df = pd.read_parquet(file_name)\n",
    "    \n",
    "    df['request_datetime'] = pd.to_datetime(df['request_datetime']) # Convert 'request_datetime' to datetime\n",
    "    df['date_request_h'] = df['request_datetime'].dt.strftime('%Y-%m-%d-%H') # Create a new column with year-month-day-hour\n",
    "\n",
    "    number_fares_series = df.groupby('date_request_h').size()\n",
    "\n",
    "    number_fares_df = number_fares_series.reset_index(name='Number_fares')\n",
    "    \n",
    "    all_number_fares_df = pd.concat([all_number_fares_df, number_fares_df])\n",
    "\n",
    "all_number_fares_df = all_number_fares_df.groupby('date_request_h').sum().reset_index()\n",
    "\n",
    "all_number_fares_df.to_csv('Demand_forecast.csv', index=False) # Save the DataFrame to a CSV file\n",
    "\n",
    "all_number_fares_df.head()"
   ]
  }
 ],
 "metadata": {
  "kernelspec": {
   "display_name": "Python 3",
   "language": "python",
   "name": "python3"
  },
  "language_info": {
   "codemirror_mode": {
    "name": "ipython",
    "version": 3
   },
   "file_extension": ".py",
   "mimetype": "text/x-python",
   "name": "python",
   "nbconvert_exporter": "python",
   "pygments_lexer": "ipython3",
   "version": "3.8.3"
  }
 },
 "nbformat": 4,
 "nbformat_minor": 2
}
